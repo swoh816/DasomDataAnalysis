{
 "cells": [
  {
   "cell_type": "code",
   "execution_count": 1,
   "metadata": {},
   "outputs": [],
   "source": [
    "import pymysql\n",
    "import pandas as pd\n",
    "from datetime import datetime, timedelta\n",
    "import numpy as np\n",
    "import matplotlib.pyplot as plt\n",
    "import matplotlib"
   ]
  },
  {
   "cell_type": "code",
   "execution_count": 2,
   "metadata": {},
   "outputs": [],
   "source": [
    "# Emotion data database\n",
    "mysql = pymysql.connect(\n",
    "    host='35.201.169.147',\n",
    "    user='root',\n",
    "    password='1thefull!',\n",
    "    db='silverCare'\n",
    ")"
   ]
  },
  {
   "cell_type": "code",
   "execution_count": 3,
   "metadata": {
    "scrolled": true
   },
   "outputs": [
    {
     "name": "stderr",
     "output_type": "stream",
     "text": [
      "/Users/sewookoh/anaconda3/lib/python3.7/site-packages/pymysql/cursors.py:170: Warning: (1292, \"Truncated incorrect DOUBLE value: '93.86%'\")\n",
      "  result = self._query(query)\n",
      "/Users/sewookoh/anaconda3/lib/python3.7/site-packages/pymysql/cursors.py:170: Warning: (1292, \"Truncated incorrect DOUBLE value: '62.20%'\")\n",
      "  result = self._query(query)\n",
      "/Users/sewookoh/anaconda3/lib/python3.7/site-packages/pymysql/cursors.py:170: Warning: (1292, \"Truncated incorrect DOUBLE value: '99.61%'\")\n",
      "  result = self._query(query)\n",
      "/Users/sewookoh/anaconda3/lib/python3.7/site-packages/pymysql/cursors.py:170: Warning: (1292, \"Truncated incorrect DOUBLE value: '77.05%'\")\n",
      "  result = self._query(query)\n",
      "/Users/sewookoh/anaconda3/lib/python3.7/site-packages/pymysql/cursors.py:170: Warning: (1292, \"Truncated incorrect DOUBLE value: '92.70%'\")\n",
      "  result = self._query(query)\n",
      "/Users/sewookoh/anaconda3/lib/python3.7/site-packages/pymysql/cursors.py:170: Warning: (1292, \"Truncated incorrect DOUBLE value: '57.42%'\")\n",
      "  result = self._query(query)\n",
      "/Users/sewookoh/anaconda3/lib/python3.7/site-packages/pymysql/cursors.py:170: Warning: (1292, \"Truncated incorrect DOUBLE value: '78.64%'\")\n",
      "  result = self._query(query)\n",
      "/Users/sewookoh/anaconda3/lib/python3.7/site-packages/pymysql/cursors.py:170: Warning: (1292, \"Truncated incorrect DOUBLE value: '67.44%'\")\n",
      "  result = self._query(query)\n",
      "/Users/sewookoh/anaconda3/lib/python3.7/site-packages/pymysql/cursors.py:170: Warning: (1292, \"Truncated incorrect DOUBLE value: '90.37%'\")\n",
      "  result = self._query(query)\n",
      "/Users/sewookoh/anaconda3/lib/python3.7/site-packages/pymysql/cursors.py:170: Warning: (1292, \"Truncated incorrect DOUBLE value: '83.47%'\")\n",
      "  result = self._query(query)\n",
      "/Users/sewookoh/anaconda3/lib/python3.7/site-packages/pymysql/cursors.py:170: Warning: (1292, \"Truncated incorrect DOUBLE value: '93.23%'\")\n",
      "  result = self._query(query)\n",
      "/Users/sewookoh/anaconda3/lib/python3.7/site-packages/pymysql/cursors.py:170: Warning: (1292, \"Truncated incorrect DOUBLE value: '73.80%'\")\n",
      "  result = self._query(query)\n",
      "/Users/sewookoh/anaconda3/lib/python3.7/site-packages/pymysql/cursors.py:170: Warning: (1292, \"Truncated incorrect DOUBLE value: '67.41%'\")\n",
      "  result = self._query(query)\n",
      "/Users/sewookoh/anaconda3/lib/python3.7/site-packages/pymysql/cursors.py:170: Warning: (1292, \"Truncated incorrect DOUBLE value: '82.49%'\")\n",
      "  result = self._query(query)\n",
      "/Users/sewookoh/anaconda3/lib/python3.7/site-packages/pymysql/cursors.py:170: Warning: (1292, \"Truncated incorrect DOUBLE value: '52.07%'\")\n",
      "  result = self._query(query)\n",
      "/Users/sewookoh/anaconda3/lib/python3.7/site-packages/pymysql/cursors.py:170: Warning: (1292, \"Truncated incorrect DOUBLE value: '74.06%'\")\n",
      "  result = self._query(query)\n",
      "/Users/sewookoh/anaconda3/lib/python3.7/site-packages/pymysql/cursors.py:170: Warning: (1292, \"Truncated incorrect DOUBLE value: '95.75%'\")\n",
      "  result = self._query(query)\n",
      "/Users/sewookoh/anaconda3/lib/python3.7/site-packages/pymysql/cursors.py:170: Warning: (1292, \"Truncated incorrect DOUBLE value: '86.02%'\")\n",
      "  result = self._query(query)\n",
      "/Users/sewookoh/anaconda3/lib/python3.7/site-packages/pymysql/cursors.py:170: Warning: (1292, \"Truncated incorrect DOUBLE value: '80.72%'\")\n",
      "  result = self._query(query)\n",
      "/Users/sewookoh/anaconda3/lib/python3.7/site-packages/pymysql/cursors.py:170: Warning: (1292, \"Truncated incorrect DOUBLE value: '89.48%'\")\n",
      "  result = self._query(query)\n",
      "/Users/sewookoh/anaconda3/lib/python3.7/site-packages/pymysql/cursors.py:170: Warning: (1292, \"Truncated incorrect DOUBLE value: '93.65%'\")\n",
      "  result = self._query(query)\n",
      "/Users/sewookoh/anaconda3/lib/python3.7/site-packages/pymysql/cursors.py:170: Warning: (1292, \"Truncated incorrect DOUBLE value: '85.85%'\")\n",
      "  result = self._query(query)\n",
      "/Users/sewookoh/anaconda3/lib/python3.7/site-packages/pymysql/cursors.py:170: Warning: (1292, \"Truncated incorrect DOUBLE value: '71.19%'\")\n",
      "  result = self._query(query)\n",
      "/Users/sewookoh/anaconda3/lib/python3.7/site-packages/pymysql/cursors.py:170: Warning: (1292, \"Truncated incorrect DOUBLE value: '50.93%'\")\n",
      "  result = self._query(query)\n",
      "/Users/sewookoh/anaconda3/lib/python3.7/site-packages/pymysql/cursors.py:170: Warning: (1292, \"Truncated incorrect DOUBLE value: '79.33%'\")\n",
      "  result = self._query(query)\n",
      "/Users/sewookoh/anaconda3/lib/python3.7/site-packages/pymysql/cursors.py:170: Warning: (1292, \"Truncated incorrect DOUBLE value: '74.46%'\")\n",
      "  result = self._query(query)\n",
      "/Users/sewookoh/anaconda3/lib/python3.7/site-packages/pymysql/cursors.py:170: Warning: (1292, \"Truncated incorrect DOUBLE value: '91.59%'\")\n",
      "  result = self._query(query)\n",
      "/Users/sewookoh/anaconda3/lib/python3.7/site-packages/pymysql/cursors.py:170: Warning: (1292, \"Truncated incorrect DOUBLE value: '87.44%'\")\n",
      "  result = self._query(query)\n",
      "/Users/sewookoh/anaconda3/lib/python3.7/site-packages/pymysql/cursors.py:170: Warning: (1292, \"Truncated incorrect DOUBLE value: '54.91%'\")\n",
      "  result = self._query(query)\n",
      "/Users/sewookoh/anaconda3/lib/python3.7/site-packages/pymysql/cursors.py:170: Warning: (1292, \"Truncated incorrect DOUBLE value: '87.94%'\")\n",
      "  result = self._query(query)\n",
      "/Users/sewookoh/anaconda3/lib/python3.7/site-packages/pymysql/cursors.py:170: Warning: (1292, \"Truncated incorrect DOUBLE value: '63.59%'\")\n",
      "  result = self._query(query)\n",
      "/Users/sewookoh/anaconda3/lib/python3.7/site-packages/pymysql/cursors.py:170: Warning: (1292, \"Truncated incorrect DOUBLE value: '81.20%'\")\n",
      "  result = self._query(query)\n",
      "/Users/sewookoh/anaconda3/lib/python3.7/site-packages/pymysql/cursors.py:170: Warning: (1292, \"Truncated incorrect DOUBLE value: '89.75%'\")\n",
      "  result = self._query(query)\n",
      "/Users/sewookoh/anaconda3/lib/python3.7/site-packages/pymysql/cursors.py:170: Warning: (1292, \"Truncated incorrect DOUBLE value: '80.28%'\")\n",
      "  result = self._query(query)\n",
      "/Users/sewookoh/anaconda3/lib/python3.7/site-packages/pymysql/cursors.py:170: Warning: (1292, \"Truncated incorrect DOUBLE value: '99.83%'\")\n",
      "  result = self._query(query)\n",
      "/Users/sewookoh/anaconda3/lib/python3.7/site-packages/pymysql/cursors.py:170: Warning: (1292, \"Truncated incorrect DOUBLE value: '53.52%'\")\n",
      "  result = self._query(query)\n",
      "/Users/sewookoh/anaconda3/lib/python3.7/site-packages/pymysql/cursors.py:170: Warning: (1292, \"Truncated incorrect DOUBLE value: '89.27%'\")\n",
      "  result = self._query(query)\n",
      "/Users/sewookoh/anaconda3/lib/python3.7/site-packages/pymysql/cursors.py:170: Warning: (1292, \"Truncated incorrect DOUBLE value: '87.95%'\")\n",
      "  result = self._query(query)\n",
      "/Users/sewookoh/anaconda3/lib/python3.7/site-packages/pymysql/cursors.py:170: Warning: (1292, \"Truncated incorrect DOUBLE value: '90.96%'\")\n",
      "  result = self._query(query)\n",
      "/Users/sewookoh/anaconda3/lib/python3.7/site-packages/pymysql/cursors.py:170: Warning: (1292, \"Truncated incorrect DOUBLE value: '56.59%'\")\n",
      "  result = self._query(query)\n",
      "/Users/sewookoh/anaconda3/lib/python3.7/site-packages/pymysql/cursors.py:170: Warning: (1292, \"Truncated incorrect DOUBLE value: '69.75%'\")\n",
      "  result = self._query(query)\n",
      "/Users/sewookoh/anaconda3/lib/python3.7/site-packages/pymysql/cursors.py:170: Warning: (1292, \"Truncated incorrect DOUBLE value: '76.66%'\")\n",
      "  result = self._query(query)\n",
      "/Users/sewookoh/anaconda3/lib/python3.7/site-packages/pymysql/cursors.py:170: Warning: (1292, \"Truncated incorrect DOUBLE value: '83.83%'\")\n",
      "  result = self._query(query)\n",
      "/Users/sewookoh/anaconda3/lib/python3.7/site-packages/pymysql/cursors.py:170: Warning: (1292, \"Truncated incorrect DOUBLE value: '52.85%'\")\n",
      "  result = self._query(query)\n",
      "/Users/sewookoh/anaconda3/lib/python3.7/site-packages/pymysql/cursors.py:170: Warning: (1292, \"Truncated incorrect DOUBLE value: '84.47%'\")\n",
      "  result = self._query(query)\n",
      "/Users/sewookoh/anaconda3/lib/python3.7/site-packages/pymysql/cursors.py:170: Warning: (1292, \"Truncated incorrect DOUBLE value: '65.73%'\")\n",
      "  result = self._query(query)\n",
      "/Users/sewookoh/anaconda3/lib/python3.7/site-packages/pymysql/cursors.py:170: Warning: (1292, \"Truncated incorrect DOUBLE value: '54.07%'\")\n",
      "  result = self._query(query)\n",
      "/Users/sewookoh/anaconda3/lib/python3.7/site-packages/pymysql/cursors.py:170: Warning: (1292, \"Truncated incorrect DOUBLE value: '87.69%'\")\n",
      "  result = self._query(query)\n",
      "/Users/sewookoh/anaconda3/lib/python3.7/site-packages/pymysql/cursors.py:170: Warning: (1292, \"Truncated incorrect DOUBLE value: '91.22%'\")\n",
      "  result = self._query(query)\n",
      "/Users/sewookoh/anaconda3/lib/python3.7/site-packages/pymysql/cursors.py:170: Warning: (1292, \"Truncated incorrect DOUBLE value: '86.56%'\")\n",
      "  result = self._query(query)\n",
      "/Users/sewookoh/anaconda3/lib/python3.7/site-packages/pymysql/cursors.py:170: Warning: (1292, \"Truncated incorrect DOUBLE value: '58.28%'\")\n",
      "  result = self._query(query)\n",
      "/Users/sewookoh/anaconda3/lib/python3.7/site-packages/pymysql/cursors.py:170: Warning: (1292, \"Truncated incorrect DOUBLE value: '93.62%'\")\n",
      "  result = self._query(query)\n",
      "/Users/sewookoh/anaconda3/lib/python3.7/site-packages/pymysql/cursors.py:170: Warning: (1292, \"Truncated incorrect DOUBLE value: '72.12%'\")\n",
      "  result = self._query(query)\n",
      "/Users/sewookoh/anaconda3/lib/python3.7/site-packages/pymysql/cursors.py:170: Warning: (1292, \"Truncated incorrect DOUBLE value: '75.68%'\")\n",
      "  result = self._query(query)\n",
      "/Users/sewookoh/anaconda3/lib/python3.7/site-packages/pymysql/cursors.py:170: Warning: (1292, \"Truncated incorrect DOUBLE value: '90.15%'\")\n",
      "  result = self._query(query)\n",
      "/Users/sewookoh/anaconda3/lib/python3.7/site-packages/pymysql/cursors.py:170: Warning: (1292, \"Truncated incorrect DOUBLE value: '85.94%'\")\n",
      "  result = self._query(query)\n",
      "/Users/sewookoh/anaconda3/lib/python3.7/site-packages/pymysql/cursors.py:170: Warning: (1292, \"Truncated incorrect DOUBLE value: '97.46%'\")\n",
      "  result = self._query(query)\n"
     ]
    }
   ],
   "source": [
    "emotion_df = pd.read_sql_query(\"SELECT b.SORT,\\\n",
    "                                     a.REGISTRATION_DATE,\\\n",
    "       a.PUDDING_SERIALNUM,\\\n",
    "       CASE IFNULL(EMOTION, '')\\\n",
    "                  WHEN '긍정' THEN 1 * EMOTION_SCORE\\\n",
    "                  WHEN '부정' THEN -1 * EMOTION_SCORE\\\n",
    "                  ELSE 0\\\n",
    "                 END AS emotionScore\\\n",
    " FROM ROJA_HI_LOG a, PUDDING_SERIALNUM b\\\n",
    " WHERE a.PUDDING_SERIALNUM = b.PUDDING_SERIALNUM\\\n",
    "  AND a.SEND_SORT = 'asr'\\\n",
    "  AND a.SENDER <> 'ROJA'\", mysql)"
   ]
  },
  {
   "cell_type": "code",
   "execution_count": 6,
   "metadata": {},
   "outputs": [],
   "source": [
    "# for user in set(busan_emotion_df.PUDDING_SERIALNUM.values):\n",
    "class investigate_emotion:\n",
    "    def __init__(self, region):\n",
    "        self.region = region\n",
    "        self.region_emotion_df = emotion_df[emotion_df.SORT == self.region]\n",
    "        self.user_list = list(set(self.region_emotion_df.PUDDING_SERIALNUM))\n",
    "\n",
    "    def plotEmotionScore(self, user, period):\n",
    "        # self.region: Gimpo, busanjin, B2C\n",
    "        user_specific_data = self.region_emotion_df[self.region_emotion_df.PUDDING_SERIALNUM == user]\n",
    "        user_specific_data['date'] = user_specific_data.REGISTRATION_DATE.map(lambda x: x.date())\n",
    "        mean_data = user_specific_data.groupby('date').mean()\n",
    "        std_data = user_specific_data.groupby('date').std()\n",
    "        mean_data = mean_data[mean_data.index>datetime(2019, 12, 1).date()]\n",
    "        std_data = std_data[std_data.index>datetime(2019, 12, 1).date()]\n",
    "        plt.plot(mean_data.index, mean_data.emotionScore, 'o-', label=user)\n",
    "        plt.fill_between(mean_data.index, mean_data.emotionScore-std_data.emotionScore,\n",
    "                         mean_data.emotionScore+std_data.emotionScore, alpha=0.3)\n",
    "        plt.xticks(mean_data.index[[int((mean_data.index.__len__()-1)/3*i) for i in range(3)]])\n",
    "        plt.legend()\n",
    "        \n",
    "#     def emotionRatio(self, user): # Calculate the ratio of positive/negative ratio (dismiss emotion score)\n",
    "\n",
    "        \n",
    "#     def useFrequency(self, user):\n",
    "        "
   ]
  },
  {
   "cell_type": "code",
   "execution_count": 7,
   "metadata": {},
   "outputs": [
    {
     "name": "stderr",
     "output_type": "stream",
     "text": [
      "/Users/sewookoh/anaconda3/lib/python3.7/site-packages/ipykernel_launcher.py:11: SettingWithCopyWarning: \n",
      "A value is trying to be set on a copy of a slice from a DataFrame.\n",
      "Try using .loc[row_indexer,col_indexer] = value instead\n",
      "\n",
      "See the caveats in the documentation: http://pandas.pydata.org/pandas-docs/stable/user_guide/indexing.html#returning-a-view-versus-a-copy\n",
      "  # This is added back by InteractiveShellApp.init_path()\n",
      "/Users/sewookoh/anaconda3/lib/python3.7/site-packages/pandas/plotting/_matplotlib/converter.py:103: FutureWarning: Using an implicitly registered datetime converter for a matplotlib plotting method. The converter was registered by pandas on import. Future versions of pandas will require you to explicitly register matplotlib converters.\n",
      "\n",
      "To register the converters:\n",
      "\t>>> from pandas.plotting import register_matplotlib_converters\n",
      "\t>>> register_matplotlib_converters()\n",
      "  warnings.warn(msg, FutureWarning)\n"
     ]
    },
    {
     "data": {
      "image/png": "[encoded data removed]",
      "text/plain": [
       "<Figure size 1152x576 with 1 Axes>"
      ]
     },
     "metadata": {
      "needs_background": "light"
     },
     "output_type": "display_data"
    }
   ],
   "source": [
    "busanjin_emotion = investigate_emotion('busanjin')\n",
    "plt.figure(figsize=(16, 8))\n",
    "random_user_plot = busanjin_emotion.plotEmotionScore(list(busanjin_emotion.user_list)[10])"
   ]
  },
  {
   "cell_type": "code",
   "execution_count": 8,
   "metadata": {},
   "outputs": [],
   "source": [
    "user_specific = busanjin_emotion.region_emotion_df[busanjin_emotion.region_emotion_df.PUDDING_SERIALNUM == busanjin_emotion.user_list[10]]\n",
    "# test_df\n"
   ]
  },
  {
   "cell_type": "code",
   "execution_count": 22,
   "metadata": {},
   "outputs": [
    {
     "data": {
      "text/plain": [
       "'1032020001000C59'"
      ]
     },
     "execution_count": 22,
     "metadata": {},
     "output_type": "execute_result"
    }
   ],
   "source": [
    "busanjin_emotion.user_list[10]"
   ]
  },
  {
   "cell_type": "code",
   "execution_count": 11,
   "metadata": {},
   "outputs": [
    {
     "data": {
      "text/html": [
       "<div>\n",
       "<style scoped>\n",
       "    .dataframe tbody tr th:only-of-type {\n",
       "        vertical-align: middle;\n",
       "    }\n",
       "\n",
       "    .dataframe tbody tr th {\n",
       "        vertical-align: top;\n",
       "    }\n",
       "\n",
       "    .dataframe thead th {\n",
       "        text-align: right;\n",
       "    }\n",
       "</style>\n",
       "<table border=\"1\" class=\"dataframe\">\n",
       "  <thead>\n",
       "    <tr style=\"text-align: right;\">\n",
       "      <th></th>\n",
       "      <th>SORT</th>\n",
       "      <th>REGISTRATION_DATE</th>\n",
       "      <th>PUDDING_SERIALNUM</th>\n",
       "      <th>emotionScore</th>\n",
       "    </tr>\n",
       "  </thead>\n",
       "  <tbody>\n",
       "    <tr>\n",
       "      <th>22218</th>\n",
       "      <td>busanjin</td>\n",
       "      <td>2019-08-21 14:59:57</td>\n",
       "      <td>103202000100023C</td>\n",
       "      <td>-60.41</td>\n",
       "    </tr>\n",
       "    <tr>\n",
       "      <th>22228</th>\n",
       "      <td>busanjin</td>\n",
       "      <td>2019-08-21 15:00:41</td>\n",
       "      <td>103202000100023C</td>\n",
       "      <td>62.73</td>\n",
       "    </tr>\n",
       "    <tr>\n",
       "      <th>22232</th>\n",
       "      <td>busanjin</td>\n",
       "      <td>2019-08-21 15:00:54</td>\n",
       "      <td>103202000100023C</td>\n",
       "      <td>96.70</td>\n",
       "    </tr>\n",
       "    <tr>\n",
       "      <th>22239</th>\n",
       "      <td>busanjin</td>\n",
       "      <td>2019-08-21 15:01:26</td>\n",
       "      <td>103202000100023C</td>\n",
       "      <td>76.65</td>\n",
       "    </tr>\n",
       "    <tr>\n",
       "      <th>22242</th>\n",
       "      <td>busanjin</td>\n",
       "      <td>2019-08-21 15:01:42</td>\n",
       "      <td>103202000100023C</td>\n",
       "      <td>0.00</td>\n",
       "    </tr>\n",
       "    <tr>\n",
       "      <th>...</th>\n",
       "      <td>...</td>\n",
       "      <td>...</td>\n",
       "      <td>...</td>\n",
       "      <td>...</td>\n",
       "    </tr>\n",
       "    <tr>\n",
       "      <th>301914</th>\n",
       "      <td>busanjin</td>\n",
       "      <td>2020-01-23 14:53:33</td>\n",
       "      <td>1032020001000D6A</td>\n",
       "      <td>87.00</td>\n",
       "    </tr>\n",
       "    <tr>\n",
       "      <th>301930</th>\n",
       "      <td>busanjin</td>\n",
       "      <td>2020-01-23 15:08:28</td>\n",
       "      <td>1032020001000D6A</td>\n",
       "      <td>79.00</td>\n",
       "    </tr>\n",
       "    <tr>\n",
       "      <th>301954</th>\n",
       "      <td>busanjin</td>\n",
       "      <td>2020-01-23 15:39:59</td>\n",
       "      <td>1032020001000CEB</td>\n",
       "      <td>-99.00</td>\n",
       "    </tr>\n",
       "    <tr>\n",
       "      <th>301955</th>\n",
       "      <td>busanjin</td>\n",
       "      <td>2020-01-23 15:40:11</td>\n",
       "      <td>1032020001000CEB</td>\n",
       "      <td>85.00</td>\n",
       "    </tr>\n",
       "    <tr>\n",
       "      <th>301956</th>\n",
       "      <td>busanjin</td>\n",
       "      <td>2020-01-23 15:40:27</td>\n",
       "      <td>1032020001000CEB</td>\n",
       "      <td>-96.00</td>\n",
       "    </tr>\n",
       "  </tbody>\n",
       "</table>\n",
       "<p>27080 rows × 4 columns</p>\n",
       "</div>"
      ],
      "text/plain": [
       "            SORT   REGISTRATION_DATE PUDDING_SERIALNUM  emotionScore\n",
       "22218   busanjin 2019-08-21 14:59:57  103202000100023C        -60.41\n",
       "22228   busanjin 2019-08-21 15:00:41  103202000100023C         62.73\n",
       "22232   busanjin 2019-08-21 15:00:54  103202000100023C         96.70\n",
       "22239   busanjin 2019-08-21 15:01:26  103202000100023C         76.65\n",
       "22242   busanjin 2019-08-21 15:01:42  103202000100023C          0.00\n",
       "...          ...                 ...               ...           ...\n",
       "301914  busanjin 2020-01-23 14:53:33  1032020001000D6A         87.00\n",
       "301930  busanjin 2020-01-23 15:08:28  1032020001000D6A         79.00\n",
       "301954  busanjin 2020-01-23 15:39:59  1032020001000CEB        -99.00\n",
       "301955  busanjin 2020-01-23 15:40:11  1032020001000CEB         85.00\n",
       "301956  busanjin 2020-01-23 15:40:27  1032020001000CEB        -96.00\n",
       "\n",
       "[27080 rows x 4 columns]"
      ]
     },
     "execution_count": 11,
     "metadata": {},
     "output_type": "execute_result"
    }
   ],
   "source": [
    ".REGISTRATION_DATE.hist()"
   ]
  },
  {
   "cell_type": "code",
   "execution_count": null,
   "metadata": {},
   "outputs": [],
   "source": [
    "plotEmotionScore('B2C')"
   ]
  },
  {
   "cell_type": "code",
   "execution_count": null,
   "metadata": {},
   "outputs": [],
   "source": []
  },
  {
   "cell_type": "code",
   "execution_count": null,
   "metadata": {},
   "outputs": [],
   "source": []
  },
  {
   "cell_type": "code",
   "execution_count": 49,
   "metadata": {},
   "outputs": [
    {
     "data": {
      "text/plain": [
       "REGISTRATION_DATE\n",
       "2019-08-21    -7.620392\n",
       "2019-08-22          NaN\n",
       "2019-08-23          NaN\n",
       "2019-08-24          NaN\n",
       "2019-08-25          NaN\n",
       "                ...    \n",
       "2020-01-16          NaN\n",
       "2020-01-17          NaN\n",
       "2020-01-18          NaN\n",
       "2020-01-19          NaN\n",
       "2020-01-20    28.542857\n",
       "Freq: D, Name: emotionScore, Length: 153, dtype: float64"
      ]
     },
     "execution_count": 49,
     "metadata": {},
     "output_type": "execute_result"
    }
   ],
   "source": [
    "test_df.groupby(pd.Grouper(key='REGISTRATION_DATE', freq='1D'))"
   ]
  },
  {
   "cell_type": "markdown",
   "metadata": {},
   "source": [
    "# Emotion stat"
   ]
  },
  {
   "cell_type": "code",
   "execution_count": null,
   "metadata": {},
   "outputs": [],
   "source": [
    "busan_emotion_df"
   ]
  },
  {
   "cell_type": "markdown",
   "metadata": {},
   "source": [
    "# Usage stat"
   ]
  },
  {
   "cell_type": "code",
   "execution_count": 39,
   "metadata": {},
   "outputs": [],
   "source": [
    "max_num = 0\n",
    "max_user = 'Hi'\n",
    "for user in set(busan_emotion_df.SENDER.values):\n",
    "    if user != 'ROJA':\n",
    "        temp_num = busan_emotion_df[busan_emotion_df.SENDER == user].shape[0]\n",
    "        if temp_num > max_num:\n",
    "            max_num = temp_num\n",
    "            max_user = user"
   ]
  },
  {
   "cell_type": "code",
   "execution_count": 43,
   "metadata": {},
   "outputs": [
    {
     "data": {
      "text/plain": [
       "55093     긍정\n",
       "55147     긍정\n",
       "55153     긍정\n",
       "55175     부정\n",
       "55189     긍정\n",
       "          ..\n",
       "407849    부정\n",
       "421277    부정\n",
       "421279    긍정\n",
       "421283    긍정\n",
       "421289    부정\n",
       "Name: EMOTION, Length: 417, dtype: object"
      ]
     },
     "execution_count": 43,
     "metadata": {},
     "output_type": "execute_result"
    }
   ],
   "source": [
    "busan_emotion_df[busan_emotion_df.SENDER == user].EMOTION"
   ]
  }
 ],
 "metadata": {
  "kernelspec": {
   "display_name": "Python 3",
   "language": "python",
   "name": "python3"
  },
  "language_info": {
   "codemirror_mode": {
    "name": "ipython",
    "version": 3
   },
   "file_extension": ".py",
   "mimetype": "text/x-python",
   "name": "python",
   "nbconvert_exporter": "python",
   "pygments_lexer": "ipython3",
   "version": "3.7.5"
  }
 },
 "nbformat": 4,
 "nbformat_minor": 4
}
